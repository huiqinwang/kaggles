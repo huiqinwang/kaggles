{
 "cells": [
  {
   "cell_type": "code",
   "execution_count": 1,
   "metadata": {},
   "outputs": [
    {
     "name": "stdout",
     "output_type": "stream",
     "text": [
      "<class 'pandas.core.frame.DataFrame'>\n",
      "RangeIndex: 891 entries, 0 to 890\n",
      "Data columns (total 12 columns):\n",
      "PassengerId    891 non-null int64\n",
      "Survived       891 non-null int64\n",
      "Pclass         891 non-null int64\n",
      "Name           891 non-null object\n",
      "Sex            891 non-null object\n",
      "Age            714 non-null float64\n",
      "SibSp          891 non-null int64\n",
      "Parch          891 non-null int64\n",
      "Ticket         891 non-null object\n",
      "Fare           891 non-null float64\n",
      "Cabin          204 non-null object\n",
      "Embarked       889 non-null object\n",
      "dtypes: float64(2), int64(5), object(5)\n",
      "memory usage: 83.6+ KB\n",
      "None\n"
     ]
    }
   ],
   "source": [
    "import pandas as pd\n",
    "root_path = '/home/wanghuiqin/workspace/data/Titanic/'\n",
    "dataSet = pd.read_csv(root_path+\"train.csv\")\n",
    "print(dataSet.info())"
   ]
  },
  {
   "cell_type": "code",
   "execution_count": 2,
   "metadata": {},
   "outputs": [
    {
     "name": "stdout",
     "output_type": "stream",
     "text": [
      "0    549\n",
      "1    342\n",
      "Name: Survived, dtype: int64\n"
     ]
    }
   ],
   "source": [
    "#analysis\n",
    "class_tag = dataSet['Survived']\n",
    "print(class_tag.value_counts())"
   ]
  },
  {
   "cell_type": "code",
   "execution_count": 3,
   "metadata": {},
   "outputs": [
    {
     "name": "stdout",
     "output_type": "stream",
     "text": [
      "('all male:', 577, 'all female:', 314)\n",
      "('survived male:', 109, 'survived female:', 233)\n"
     ]
    }
   ],
   "source": [
    "x = [dataSet[dataSet.Sex=='male']['Sex'].size,dataSet[dataSet.Sex=='female']['Sex'].size]\n",
    "y = [dataSet[(dataSet['Survived']==1) & (dataSet['Sex']=='male')]['Sex'].size,dataSet[(dataSet['Survived']==1) & (dataSet['Sex']=='female')]['Sex'].size]\n",
    "print(\"all male:\",x[0],\"all female:\",x[1])\n",
    "print(\"survived male:\",y[0],'survived female:',y[1])\n"
   ]
  },
  {
   "cell_type": "code",
   "execution_count": 4,
   "metadata": {},
   "outputs": [
    {
     "name": "stdout",
     "output_type": "stream",
     "text": [
      "        Survived\n",
      "Sex             \n",
      "female       314\n",
      "male         577\n",
      "1    136\n",
      "3    119\n",
      "2     87\n",
      "Name: Pclass, dtype: int64\n",
      "S    217\n",
      "C     93\n",
      "Q     30\n",
      "Name: Embarked, dtype: int64\n"
     ]
    }
   ],
   "source": [
    "sex_analy = dataSet.loc[:,['Survived','Sex']].groupby(['Sex'])\n",
    "print(sex_analy.count())\n",
    "Pclass_analy = dataSet[dataSet['Survived']==1]['Pclass']\n",
    "print(Pclass_analy.value_counts())\n",
    "Embarked_analy = dataSet[dataSet['Survived']==1]['Embarked']\n",
    "print(Embarked_analy.value_counts())"
   ]
  },
  {
   "cell_type": "code",
   "execution_count": 6,
   "metadata": {},
   "outputs": [
    {
     "name": "stdout",
     "output_type": "stream",
     "text": [
      "C23 C25 C27        4\n",
      "G6                 4\n",
      "B96 B98            4\n",
      "D                  3\n",
      "C22 C26            3\n",
      "E101               3\n",
      "F2                 3\n",
      "F33                3\n",
      "B57 B59 B63 B66    2\n",
      "C68                2\n",
      "B58 B60            2\n",
      "E121               2\n",
      "D20                2\n",
      "E8                 2\n",
      "E44                2\n",
      "B77                2\n",
      "C65                2\n",
      "D26                2\n",
      "E24                2\n",
      "E25                2\n",
      "B20                2\n",
      "C93                2\n",
      "D33                2\n",
      "E67                2\n",
      "D35                2\n",
      "D36                2\n",
      "C52                2\n",
      "F4                 2\n",
      "C125               2\n",
      "C124               2\n",
      "                  ..\n",
      "F G63              1\n",
      "A6                 1\n",
      "D45                1\n",
      "D6                 1\n",
      "D56                1\n",
      "C101               1\n",
      "C54                1\n",
      "D28                1\n",
      "D37                1\n",
      "B102               1\n",
      "D30                1\n",
      "E17                1\n",
      "E58                1\n",
      "F E69              1\n",
      "D10 D12            1\n",
      "E50                1\n",
      "A14                1\n",
      "C91                1\n",
      "A16                1\n",
      "B38                1\n",
      "B39                1\n",
      "C95                1\n",
      "B78                1\n",
      "B79                1\n",
      "C99                1\n",
      "B37                1\n",
      "A19                1\n",
      "E12                1\n",
      "A7                 1\n",
      "D15                1\n",
      "Name: Cabin, Length: 147, dtype: int64\n",
      "147\n"
     ]
    }
   ],
   "source": [
    "print(dataSet['Cabin'].value_counts())\n",
    "print(len(dataSet['Cabin'].value_counts()))"
   ]
  }
 ],
 "metadata": {
  "kernelspec": {
   "display_name": "Python 2",
   "language": "python",
   "name": "python2"
  },
  "language_info": {
   "codemirror_mode": {
    "name": "ipython",
    "version": 2
   },
   "file_extension": ".py",
   "mimetype": "text/x-python",
   "name": "python",
   "nbconvert_exporter": "python",
   "pygments_lexer": "ipython2",
   "version": "2.7.12"
  }
 },
 "nbformat": 4,
 "nbformat_minor": 2
}
