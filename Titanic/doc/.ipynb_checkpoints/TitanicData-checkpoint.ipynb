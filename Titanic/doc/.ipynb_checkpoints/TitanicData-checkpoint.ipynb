{
 "cells": [
  {
   "cell_type": "code",
   "execution_count": 6,
   "metadata": {},
   "outputs": [
    {
     "name": "stdout",
     "output_type": "stream",
     "text": [
      "<class 'pandas.core.frame.DataFrame'>\n",
      "RangeIndex: 891 entries, 0 to 890\n",
      "Data columns (total 12 columns):\n",
      "PassengerId    891 non-null int64\n",
      "Survived       891 non-null int64\n",
      "Pclass         891 non-null int64\n",
      "Name           891 non-null object\n",
      "Sex            891 non-null object\n",
      "Age            714 non-null float64\n",
      "SibSp          891 non-null int64\n",
      "Parch          891 non-null int64\n",
      "Ticket         891 non-null object\n",
      "Fare           891 non-null float64\n",
      "Cabin          204 non-null object\n",
      "Embarked       889 non-null object\n",
      "dtypes: float64(2), int64(5), object(5)\n",
      "memory usage: 83.6+ KB\n",
      "None\n"
     ]
    }
   ],
   "source": [
    "import pandas as pd\n",
    "root_path = '/home/wanghuiqin/workspace/data/Titanic/'\n",
    "dataSet = pd.read_csv(root_path+\"train.csv\")\n",
    "print(dataSet.info())"
   ]
  },
  {
   "cell_type": "code",
   "execution_count": 8,
   "metadata": {},
   "outputs": [
    {
     "name": "stdout",
     "output_type": "stream",
     "text": [
      "0    549\n",
      "1    342\n",
      "Name: Survived, dtype: int64\n"
     ]
    }
   ],
   "source": [
    "#analysis\n",
    "class_tag = dataSet['Survived']\n",
    "print(class_tag.value_counts())"
   ]
  },
  {
   "cell_type": "code",
   "execution_count": 22,
   "metadata": {},
   "outputs": [
    {
     "name": "stdout",
     "output_type": "stream",
     "text": [
      "('all male:', 577, 'all female:', 314)\n",
      "('survived male:', 109, 'survived female:', 233)\n"
     ]
    }
   ],
   "source": [
    "x = [dataSet[dataSet.Sex=='male']['Sex'].size,dataSet[dataSet.Sex=='female']['Sex'].size]\n",
    "y = [dataSet[(dataSet['Survived']==1) & (dataSet['Sex']=='male')]['Sex'].size,dataSet[(dataSet['Survived']==1) & (dataSet['Sex']=='female')]['Sex'].size]\n",
    "print(\"all male:\",x[0],\"all female:\",x[1])\n",
    "print(\"survived male:\",y[0],'survived female:',y[1])\n"
   ]
  },
  {
   "cell_type": "code",
   "execution_count": 35,
   "metadata": {},
   "outputs": [
    {
     "name": "stdout",
     "output_type": "stream",
     "text": [
      "        Survived\n",
      "Sex             \n",
      "female       314\n",
      "male         577\n",
      "1    136\n",
      "3    119\n",
      "2     87\n",
      "Name: Pclass, dtype: int64\n",
      "S    217\n",
      "C     93\n",
      "Q     30\n",
      "Name: Embarked, dtype: int64\n"
     ]
    }
   ],
   "source": [
    "sex_analy = dataSet.loc[:,['Survived','Sex']].groupby(['Sex'])\n",
    "print(sex_analy.count())\n",
    "Pclass_analy = dataSet[dataSet['Survived']==1]['Pclass']\n",
    "print(Pclass_analy.value_counts())\n",
    "Embarked_analy = dataSet[dataSet['Survived']==1]['Embarked']\n",
    "print(Embarked_analy.value_counts())"
   ]
  },
  {
   "cell_type": "code",
   "execution_count": null,
   "metadata": {},
   "outputs": [],
   "source": []
  }
 ],
 "metadata": {
  "kernelspec": {
   "display_name": "Python 2",
   "language": "python",
   "name": "python2"
  },
  "language_info": {
   "codemirror_mode": {
    "name": "ipython",
    "version": 2
   },
   "file_extension": ".py",
   "mimetype": "text/x-python",
   "name": "python",
   "nbconvert_exporter": "python",
   "pygments_lexer": "ipython2",
   "version": "2.7.12"
  }
 },
 "nbformat": 4,
 "nbformat_minor": 2
}
